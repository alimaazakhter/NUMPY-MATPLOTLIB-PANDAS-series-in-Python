{
 "cells": [
  {
   "cell_type": "code",
   "execution_count": 11,
   "id": "128dc386-5358-43f4-ab75-25e00f0a5c1d",
   "metadata": {},
   "outputs": [
    {
     "name": "stdout",
     "output_type": "stream",
     "text": [
      "  Emp ID  Name  Age\n",
      "0    E01   Ali   20\n",
      "1    E02  John   25\n",
      "2    E03  Mike   30\n",
      "3    E04  Alen   24\n",
      "4    E05  Maaz   34\n",
      "5    E06   Roy   28\n",
      "\n",
      "  Emp ID  Salary\n",
      "0    E01   20000\n",
      "1    E07   27000\n",
      "2    E03   30000\n",
      "3    E04   26000\n",
      "4    E08   31000\n",
      "5    E06   29000\n"
     ]
    }
   ],
   "source": [
    "import pandas as pd\n",
    "\n",
    "data1 = {\"Emp ID\":[\"E01\", \"E02\", 'E03', 'E04', 'E05', 'E06'],\n",
    "         \"Name\": [\"Ali\", 'John', 'Mike', 'Alen', 'Maaz', 'Roy'],\n",
    "         'Age':[20, 25, 30, 24, 34, 28]}\n",
    "\n",
    "data2 = {\"Emp ID\":[\"E01\", \"E07\", 'E03', 'E04', 'E08', 'E06'],\n",
    "         \"Salary\":[20000, 27000, 30000, 26000, 31000, 29000]\n",
    "        }\n",
    "\n",
    "df1 = pd.DataFrame(data1)\n",
    "df2 = pd.DataFrame(data2)\n",
    "\n",
    "print(df1)\n",
    "print()\n",
    "print(df2)"
   ]
  },
  {
   "cell_type": "code",
   "execution_count": 12,
   "id": "e7145f30-9ea8-4a58-8e99-0b79f5e0a539",
   "metadata": {},
   "outputs": [
    {
     "name": "stdout",
     "output_type": "stream",
     "text": [
      "  Emp ID  Name  Age   Salary\n",
      "0    E01   Ali   20  20000.0\n",
      "1    E02  John   25      NaN\n",
      "2    E03  Mike   30  30000.0\n",
      "3    E04  Alen   24  26000.0\n",
      "4    E05  Maaz   34      NaN\n",
      "5    E06   Roy   28  29000.0\n"
     ]
    }
   ],
   "source": [
    "# Merge                                            \n",
    "# LeftJoin -> A LEFT JOIN returns all records from the left table and only the matching records from the right table. \n",
    "# If there is no match, it returns NULL for the right table's columns.\n",
    "\n",
    "print(pd.merge(left = df1, right = df2, on=\"Emp ID\", how=\"left\"))"
   ]
  },
  {
   "cell_type": "code",
   "execution_count": 13,
   "id": "15b2bd38-6b6f-4128-a69e-b6c61a30f148",
   "metadata": {},
   "outputs": [
    {
     "name": "stdout",
     "output_type": "stream",
     "text": [
      "  Emp ID  Name   Age  Salary\n",
      "0    E01   Ali  20.0   20000\n",
      "1    E07   NaN   NaN   27000\n",
      "2    E03  Mike  30.0   30000\n",
      "3    E04  Alen  24.0   26000\n",
      "4    E08   NaN   NaN   31000\n",
      "5    E06   Roy  28.0   29000\n"
     ]
    }
   ],
   "source": [
    "# A RIGHT JOIN returns all records from the right table and only the matching records from the left table. \n",
    "# If there is no match, it returns NULL for the left table's columns.\n",
    "\n",
    "print(pd.merge(left = df1, right = df2, on=\"Emp ID\", how=\"right\"))"
   ]
  },
  {
   "cell_type": "code",
   "execution_count": 14,
   "id": "7bd6372e-791e-40d6-b55f-ef5c4aa041a0",
   "metadata": {},
   "outputs": [
    {
     "name": "stdout",
     "output_type": "stream",
     "text": [
      "  Emp ID  Name  Age  Salary\n",
      "0    E01   Ali   20   20000\n",
      "1    E03  Mike   30   30000\n",
      "2    E04  Alen   24   26000\n",
      "3    E06   Roy   28   29000\n"
     ]
    }
   ],
   "source": [
    "# Inner Join -> In an INNER JOIN, you get only the common values (matching records) from both tables based on the specified condition.\n",
    "# If a row from either table doesn’t have a match in the other table, it won’t be included in the result.\n",
    "\n",
    "print(pd.merge(left = df1, right = df2, on=\"Emp ID\", how=\"inner\"))"
   ]
  },
  {
   "cell_type": "code",
   "execution_count": null,
   "id": "849c1c45-8f55-43f7-a54c-31f57913b960",
   "metadata": {},
   "outputs": [],
   "source": []
  },
  {
   "cell_type": "code",
   "execution_count": 3,
   "id": "f4bcd25d-f1e2-4b2b-86a6-e8fafa9985de",
   "metadata": {},
   "outputs": [],
   "source": [
    "# Concatenate\n",
    "\n",
    "import pandas as pd\n",
    "\n",
    "data1 = {\"Emp ID\":[\"E01\", \"E02\", 'E03', 'E04', 'E05', 'E06'],\n",
    "         \"Name\": [\"Ali\", 'John', 'Mike', 'Alen', 'Maaz', 'Roy'],\n",
    "         'Age':[20, 25, 30, 24, 34, 28]}\n",
    "\n",
    "data2 = {\"Emp ID\":[\"E07\", \"E08\", 'E09', 'E10', 'E11', 'E12'],\n",
    "         \"Name\": [\" Emma\", 'Noah', 'Lucas', 'Jack', ' Sophia', 'Ethan'],\n",
    "         'Age':[20, 25, 30, 24, 34, 28]}\n",
    "\n",
    "df1 = pd.DataFrame(data1)\n",
    "df2 = pd.DataFrame(data2)"
   ]
  },
  {
   "cell_type": "code",
   "execution_count": 4,
   "id": "0bc100de-eb6a-40ed-96f8-285b18e92190",
   "metadata": {},
   "outputs": [
    {
     "name": "stdout",
     "output_type": "stream",
     "text": [
      "  Emp ID     Name  Age\n",
      "0    E01      Ali   20\n",
      "1    E02     John   25\n",
      "2    E03     Mike   30\n",
      "3    E04     Alen   24\n",
      "4    E05     Maaz   34\n",
      "5    E06      Roy   28\n",
      "0    E07     Emma   20\n",
      "1    E08     Noah   25\n",
      "2    E09    Lucas   30\n",
      "3    E10     Jack   24\n",
      "4    E11   Sophia   34\n",
      "5    E12    Ethan   28\n"
     ]
    }
   ],
   "source": [
    "print(pd.concat([df1,df2]))"
   ]
  },
  {
   "cell_type": "code",
   "execution_count": null,
   "id": "7709a200-b052-4677-9d0a-e9f664ff3318",
   "metadata": {},
   "outputs": [],
   "source": []
  }
 ],
 "metadata": {
  "kernelspec": {
   "display_name": "Python 3 (ipykernel)",
   "language": "python",
   "name": "python3"
  },
  "language_info": {
   "codemirror_mode": {
    "name": "ipython",
    "version": 3
   },
   "file_extension": ".py",
   "mimetype": "text/x-python",
   "name": "python",
   "nbconvert_exporter": "python",
   "pygments_lexer": "ipython3",
   "version": "3.13.1"
  }
 },
 "nbformat": 4,
 "nbformat_minor": 5
}

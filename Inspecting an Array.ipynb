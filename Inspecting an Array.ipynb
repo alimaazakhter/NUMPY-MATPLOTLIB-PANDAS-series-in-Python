{
 "cells": [
  {
   "cell_type": "code",
   "execution_count": 1,
   "id": "8418c512-b6ba-450a-bbb3-a39aeeafb6ce",
   "metadata": {},
   "outputs": [
    {
     "name": "stdout",
     "output_type": "stream",
     "text": [
      "(2, 3)\n",
      "2\n",
      "6\n",
      "<class 'numpy.ndarray'>\n",
      "int32\n",
      "[[20 50 10]\n",
      " [40 70 90]]\n"
     ]
    }
   ],
   "source": [
    "import numpy as np\n",
    "\n",
    "a = [[20, 50, 10], [40, 70, 90]]\n",
    "arr = np.array(a)\n",
    "print(arr.shape) #Rows and Columns\n",
    "print(len(arr)) #Number of Nested values\n",
    "print(np.size(arr)) #Number of Elements\n",
    "print(type(arr)) #What type of array it is!\n",
    "print(arr.dtype) #Data Type\n",
    "print(arr)\n"
   ]
  },
  {
   "cell_type": "code",
   "execution_count": null,
   "id": "b5a0dc08-5a0b-4d95-89f4-7f37c0118da1",
   "metadata": {},
   "outputs": [],
   "source": []
  }
 ],
 "metadata": {
  "kernelspec": {
   "display_name": "base",
   "language": "python",
   "name": "python3"
  },
  "language_info": {
   "codemirror_mode": {
    "name": "ipython",
    "version": 3
   },
   "file_extension": ".py",
   "mimetype": "text/x-python",
   "name": "python",
   "nbconvert_exporter": "python",
   "pygments_lexer": "ipython3",
   "version": "3.11.4"
  }
 },
 "nbformat": 4,
 "nbformat_minor": 5
}

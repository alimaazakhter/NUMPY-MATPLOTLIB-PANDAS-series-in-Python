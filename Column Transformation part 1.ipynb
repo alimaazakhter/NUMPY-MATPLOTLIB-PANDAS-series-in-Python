{
 "cells": [
  {
   "cell_type": "code",
   "execution_count": 8,
   "id": "cdb13014-b6dd-407b-9717-ccd40610060d",
   "metadata": {},
   "outputs": [
    {
     "name": "stdout",
     "output_type": "stream",
     "text": [
      "GetBonus\n",
      "No Bonus    525\n",
      "Bonus       475\n",
      "Name: count, dtype: int64\n",
      "     EEID        Full Name                 Job Title  Department  \\\n",
      "0  E02387      Emily Davis                Sr. Manger          IT   \n",
      "1  E04105    Theodore Dinh       Technical Architect          IT   \n",
      "2  E02572     Luna Sanders                  Director     Finance   \n",
      "3  E02832  Penelope Jordan  Computer Systems Manager          IT   \n",
      "4  E01639        Austin Vo               Sr. Analyst     Finance   \n",
      "5  E00644     Joshua Gupta    Account Representative       Sales   \n",
      "6  E01550      Ruby Barnes                   Manager          IT   \n",
      "7  E04332      Luke Martin                   Analyst     Finance   \n",
      "8  E04533    Easton Bailey                   Manager  Accounting   \n",
      "9  E03838  Madeline Walker               Sr. Analyst     Finance   \n",
      "\n",
      "            Business Unit  Gender  Ethnicity  Age  Hire Date  Annual Salary  \\\n",
      "0  Research & Development  Female      Black   55 2016-04-08         141604   \n",
      "1           Manufacturing    Male      Asian   59 1997-11-29          99975   \n",
      "2     Speciality Products  Female  Caucasian   50 2006-10-26         163099   \n",
      "3           Manufacturing  Female  Caucasian   26 2019-09-27          84913   \n",
      "4           Manufacturing    Male      Asian   55 1995-11-20          95409   \n",
      "5               Corporate    Male      Asian   57 2017-01-24          50994   \n",
      "6               Corporate  Female  Caucasian   27 2020-07-01         119746   \n",
      "7           Manufacturing    Male      Black   25 2020-05-16          41336   \n",
      "8           Manufacturing    Male  Caucasian   29 2019-01-25         113527   \n",
      "9     Speciality Products  Female  Caucasian   34 2018-06-13          77203   \n",
      "\n",
      "   Bonus %        Country       City  Exit Date  GetBonus  \n",
      "0     0.15  United States    Seattle 2021-10-16     Bonus  \n",
      "1     0.00          China  Chongqing        NaT  No Bonus  \n",
      "2     0.20  United States    Chicago        NaT     Bonus  \n",
      "3     0.07  United States    Chicago        NaT     Bonus  \n",
      "4     0.00  United States    Phoenix        NaT  No Bonus  \n",
      "5     0.00          China  Chongqing        NaT  No Bonus  \n",
      "6     0.10  United States    Phoenix        NaT     Bonus  \n",
      "7     0.00  United States      Miami 2021-05-20  No Bonus  \n",
      "8     0.06  United States     Austin        NaT     Bonus  \n",
      "9     0.00  United States    Chicago        NaT  No Bonus  \n"
     ]
    }
   ],
   "source": [
    "import pandas as pd\n",
    "\n",
    "df = pd.read_excel(\"ESD.xlsx\")\n",
    "# print(df)\n",
    "\n",
    "#We have to find that who is getting bonus and who is getting no bonus. \n",
    "\n",
    "df.loc[(df[\"Bonus %\"] == 0), \"GetBonus\"] = \"No Bonus\"      #If Bonus is == 0, means someone is having zero bonus then No Bonus.  \n",
    "df.loc[(df[\"Bonus %\"] >  0), \"GetBonus\"] = \"Bonus\"        #If Bonus is > 0, means Someone is getting Bonus.\n",
    "print(df.head(10))                                       #.head(10), fist 10 Enteries will be print.\n"
   ]
  },
  {
   "cell_type": "code",
   "execution_count": 9,
   "id": "dc83e060-fbcb-4ff1-9e4e-60b7411bbfb6",
   "metadata": {},
   "outputs": [
    {
     "name": "stdout",
     "output_type": "stream",
     "text": [
      "GetBonus\n",
      "No Bonus    525\n",
      "Bonus       475\n",
      "Name: count, dtype: int64\n"
     ]
    }
   ],
   "source": [
    "bonus_counts = df[\"GetBonus\"].value_counts()     # Count the number of people getting a bonus and not getting a bonus\n",
    "print(bonus_counts)"
   ]
  },
  {
   "cell_type": "code",
   "execution_count": 11,
   "id": "6baae200-1706-4a86-bfe5-6bc69f4da783",
   "metadata": {},
   "outputs": [
    {
     "name": "stdout",
     "output_type": "stream",
     "text": [
      "  EEID First name Last Name  Salary       Full Name\n",
      "0   E1    alimaaz    akhter   30000  Alimaaz Akhter\n",
      "1   E2       tony     stark   27000      Tony Stark\n",
      "2   E3      steve    rogers   32000    Steve Rogers\n",
      "3   E4       mike     tyson   40000      Mike Tyson\n",
      "4   E5      peter    parker   42000    Peter Parker\n"
     ]
    }
   ],
   "source": [
    "import pandas as pd\n",
    "\n",
    "data = pd.read_excel(\"practice 1.xlsx\")\n",
    "# print(data)         #What if i don't want first name & last name. I want full name. lets see how its done!\n",
    "\n",
    "#Using String Functions .str.capitalize() . The first letter of first name and last name will be in captial.\n",
    "\n",
    "data[\"Full Name\"] = data[\"First name\"].str.capitalize() + \" \"+ data[\"Last Name\"].str.capitalize()\n",
    "print(data)"
   ]
  }
 ],
 "metadata": {
  "kernelspec": {
   "display_name": "Python 3",
   "language": "python",
   "name": "python3"
  },
  "language_info": {
   "codemirror_mode": {
    "name": "ipython",
    "version": 3
   },
   "file_extension": ".py",
   "mimetype": "text/x-python",
   "name": "python",
   "nbconvert_exporter": "python",
   "pygments_lexer": "ipython3",
   "version": "3.13.1"
  }
 },
 "nbformat": 4,
 "nbformat_minor": 5
}

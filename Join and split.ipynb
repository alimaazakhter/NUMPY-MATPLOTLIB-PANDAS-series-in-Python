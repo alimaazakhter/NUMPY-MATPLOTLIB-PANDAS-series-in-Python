{
 "cells": [
  {
   "cell_type": "code",
   "execution_count": 1,
   "id": "851f731a-b83f-4b87-9fde-fdda67860e3e",
   "metadata": {},
   "outputs": [
    {
     "name": "stdout",
     "output_type": "stream",
     "text": [
      "[10, 50, 40, 70, 4, 3, 7, 5]\n"
     ]
    }
   ],
   "source": [
    "a = [10, 50, 40, 70]\n",
    "b = [4, 3, 7, 5,]\n",
    "print(a+b)"
   ]
  },
  {
   "cell_type": "code",
   "execution_count": 14,
   "id": "e93b820c",
   "metadata": {},
   "outputs": [
    {
     "name": "stdout",
     "output_type": "stream",
     "text": [
      "[[10 50]\n",
      " [40 70]\n",
      " [ 4  3]\n",
      " [ 7  5]]\n"
     ]
    }
   ],
   "source": [
    "#Concatenate\n",
    "\n",
    "import numpy as np\n",
    "\n",
    "arr1 = ([10, 50] , [40, 70])\n",
    "arr2 = ([4, 3] , [7, 5])\n",
    "print(np.concatenate([arr1, arr2]))"
   ]
  },
  {
   "cell_type": "code",
   "execution_count": 15,
   "id": "14d74467",
   "metadata": {},
   "outputs": [
    {
     "name": "stdout",
     "output_type": "stream",
     "text": [
      "[[10 50  4  3]\n",
      " [40 70  7  5]]\n"
     ]
    }
   ],
   "source": [
    "print(np.concatenate([arr1, arr2],axis = 1 ))"
   ]
  },
  {
   "cell_type": "code",
   "execution_count": 16,
   "id": "964136ad",
   "metadata": {},
   "outputs": [
    {
     "name": "stdout",
     "output_type": "stream",
     "text": [
      "[[10 50  4  3]\n",
      " [40 70  7  5]]\n"
     ]
    }
   ],
   "source": [
    "print(np.hstack([arr1, arr2]))   #Horizontal Concatenation"
   ]
  },
  {
   "cell_type": "code",
   "execution_count": 17,
   "id": "5b4598bb",
   "metadata": {},
   "outputs": [
    {
     "name": "stdout",
     "output_type": "stream",
     "text": [
      "[[10 50]\n",
      " [40 70]\n",
      " [ 4  3]\n",
      " [ 7  5]]\n"
     ]
    }
   ],
   "source": [
    "print(np.vstack([arr1, arr2]))  #Vertical Concatenation"
   ]
  },
  {
   "cell_type": "code",
   "execution_count": 20,
   "id": "82f9054a",
   "metadata": {},
   "outputs": [
    {
     "name": "stdout",
     "output_type": "stream",
     "text": [
      "[array([20, 30]), array([40, 60]), array([80, 50])]\n"
     ]
    }
   ],
   "source": [
    "a = np.array([20, 30, 40, 60, 80, 50])\n",
    "print(np.array_split(a, 3))\n"
   ]
  },
  {
   "cell_type": "code",
   "execution_count": 21,
   "id": "aa05f14c",
   "metadata": {},
   "outputs": [
    {
     "name": "stdout",
     "output_type": "stream",
     "text": [
      "[40 60]\n"
     ]
    }
   ],
   "source": [
    "a = np.array([20, 30, 40, 60, 80, 50])\n",
    "b = np.array_split(a, 3)\n",
    "print(b[1])\n"
   ]
  }
 ],
 "metadata": {
  "kernelspec": {
   "display_name": "Python 3",
   "language": "python",
   "name": "python3"
  },
  "language_info": {
   "codemirror_mode": {
    "name": "ipython",
    "version": 3
   },
   "file_extension": ".py",
   "mimetype": "text/x-python",
   "name": "python",
   "nbconvert_exporter": "python",
   "pygments_lexer": "ipython3",
   "version": "3.13.1"
  }
 },
 "nbformat": 4,
 "nbformat_minor": 5
}

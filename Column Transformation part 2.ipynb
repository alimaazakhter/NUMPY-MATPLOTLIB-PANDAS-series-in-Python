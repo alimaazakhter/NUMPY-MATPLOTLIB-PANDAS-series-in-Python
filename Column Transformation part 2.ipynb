{
 "cells": [
  {
   "cell_type": "code",
   "execution_count": 4,
   "id": "fd870c80-6f12-4298-bfb7-eb609b6da208",
   "metadata": {},
   "outputs": [
    {
     "name": "stdout",
     "output_type": "stream",
     "text": [
      "  EEID First name Last Name  Salary   Bonus\n",
      "0   E1    alimaaz    akhter   30000  6000.0\n",
      "1   E2       tony     stark   27000  5400.0\n",
      "2   E3      steve    rogers   32000  6400.0\n",
      "3   E4       mike     tyson   40000  8000.0\n",
      "4   E5      peter    parker   42000  8400.0\n",
      "  EEID First name Last Name  Salary   Bonus       Full name\n",
      "0   E1    alimaaz    akhter   30000  6000.0  Alimaaz Akhter\n",
      "1   E2       tony     stark   27000  5400.0      Tony Stark\n",
      "2   E3      steve    rogers   32000  6400.0    Steve Rogers\n",
      "3   E4       mike     tyson   40000  8000.0      Mike Tyson\n",
      "4   E5      peter    parker   42000  8400.0    Peter Parker\n"
     ]
    }
   ],
   "source": [
    "import pandas as pd\n",
    "\n",
    "data = pd.read_excel(\"Practice 1.xlsx\")\n",
    "#print(data)\n",
    "\n",
    "data[\"Bonus\"] = (data['Salary']/100)*20      # Calculating Bonus from the Salary\n",
    "print(data)\n",
    "\n",
    "data['Full name'] = data['First name'].str.capitalize() + \" \"+ data['Last Name'].str.capitalize()\n",
    "print(data)\n"
   ]
  },
  {
   "cell_type": "code",
   "execution_count": 12,
   "id": "05b76b53-1c7d-46f8-8384-fb40736d285a",
   "metadata": {},
   "outputs": [
    {
     "name": "stdout",
     "output_type": "stream",
     "text": [
      "    Months Short_months\n",
      "0  January          Jan\n",
      "1  Febuary          Feb\n",
      "2    March          Mar\n",
      "3    April          Apr\n"
     ]
    }
   ],
   "source": [
    "data = {\"Months\" : [\"January\", \"Febuary\", \"March\", \"April\"]}\n",
    "\n",
    "a = pd.DataFrame(data)\n",
    "# print(a)\n",
    "\n",
    "def extract(value):\n",
    "    return value[0:3]\n",
    "\n",
    "a[\"Short_months\"] = a[\"Months\"].map(extract)    \n",
    "print(a)"
   ]
  },
  {
   "cell_type": "code",
   "execution_count": null,
   "id": "f3f96245-9e33-4bb9-a371-da105d3b5372",
   "metadata": {},
   "outputs": [],
   "source": []
  }
 ],
 "metadata": {
  "kernelspec": {
   "display_name": "Python 3 (ipykernel)",
   "language": "python",
   "name": "python3"
  },
  "language_info": {
   "codemirror_mode": {
    "name": "ipython",
    "version": 3
   },
   "file_extension": ".py",
   "mimetype": "text/x-python",
   "name": "python",
   "nbconvert_exporter": "python",
   "pygments_lexer": "ipython3",
   "version": "3.13.1"
  }
 },
 "nbformat": 4,
 "nbformat_minor": 5
}
